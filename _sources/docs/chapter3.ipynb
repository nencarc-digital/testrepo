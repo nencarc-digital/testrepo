{
 "cells": [
  {
   "cell_type": "markdown",
   "id": "4b6654e3",
   "metadata": {},
   "source": [
    "(python_by_example)=\n",
    "\n",
    "# Chapter 3 \n",
    "\n",
    "## Overview\n",
    "\n",
    "We\\'re now ready to start learning the Python language itself.\n",
    "\n",
    "In this lecture, we will write and then pick apart small Python\n",
    "programs.\n",
    "\n",
    "The objective is to introduce you to basic Python syntax and data\n",
    "structures.\n",
    "\n",
    "Deeper concepts will be covered in later lectures.\n",
    "\n",
    "You should have read the {ref}`lecture <getting_started>` on getting started with Python before beginning this one.\n",
    "\n",
    "## The Task: Plotting a White Noise Process\n",
    "\n",
    "Suppose we want to simulate and plot the white noise process\n",
    "$\\epsilon_0, \\epsilon_1, \\ldots, \\epsilon_T$, where each draw\n",
    "$\\epsilon_t$ is independent standard normal.\n",
    "\n",
    "In other words, we want to generate figures that look something like\n",
    "this:\n",
    "\n",
    "```{glue:} test_program_1_updated\n",
    "```\n",
    "\n",
    "(Here $t$ is on the horizontal axis and $\\epsilon_t$ is on the vertical\n",
    "axis.)\n",
    "\n",
    "We\\'ll do this in several different ways, each time learning something\n",
    "more about Python.\n",
    "\n",
    "We run the following command first, which helps ensure that plots appear\n",
    "in the notebook if you run it on your own machine."
   ]
  },
  {
   "cell_type": "code",
   "execution_count": null,
   "id": "dfe06c05",
   "metadata": {},
   "outputs": [],
   "source": [
    "%matplotlib inline"
   ]
  },
  {
   "cell_type": "markdown",
   "id": "c3f3f29d",
   "metadata": {},
   "source": [
    "## Version 1\n",
    "\n",
    "(ourfirstprog)=\n",
    "\n",
    "Here are a few lines of code that perform the task we set"
   ]
  },
  {
   "cell_type": "code",
   "execution_count": null,
   "id": "3d08bb73",
   "metadata": {},
   "outputs": [],
   "source": [
    "import numpy as np\n",
    "import matplotlib.pyplot as plt\n",
    "\n",
    "ϵ_values = np.random.randn(100)\n",
    "plt.plot(ϵ_values)\n",
    "plt.show()"
   ]
  },
  {
   "cell_type": "code",
   "execution_count": null,
   "id": "4d2237fa",
   "metadata": {
    "tags": [
     "remove-cell"
    ]
   },
   "outputs": [],
   "source": [
    "# This is duplicated as a way to use glue functionality\n",
    "fig, ax = plt.subplots()\n",
    "plt.plot(ϵ_values)\n",
    "plt.show()"
   ]
  },
  {
   "cell_type": "code",
   "execution_count": null,
   "id": "f037546c",
   "metadata": {
    "tags": [
     "remove-cell"
    ]
   },
   "outputs": [],
   "source": [
    "from myst_nb import glue\n",
    "glue(\"test_program_1_updated\", fig, display=False)"
   ]
  },
  {
   "cell_type": "markdown",
   "id": "65476bb9",
   "metadata": {},
   "source": [
    "Let\\'s break this program down and see how it works.\n",
    "\n",
    "(import)="
   ]
  }
 ],
 "metadata": {
  "jupytext": {
   "text_representation": {
    "extension": ".md",
    "format_name": "myst"
   }
  },
  "kernelspec": {
   "display_name": "Python 3",
   "language": "python",
   "name": "python3"
  },
  "source_map": [
   10,
   51,
   53,
   61,
   70,
   79,
   84
  ]
 },
 "nbformat": 4,
 "nbformat_minor": 5
}